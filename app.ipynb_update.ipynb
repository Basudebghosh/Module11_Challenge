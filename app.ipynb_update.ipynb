{
 "cells": [
  {
   "cell_type": "code",
   "execution_count": 70,
   "metadata": {},
   "outputs": [],
   "source": [
    "%matplotlib inline\n",
    "from matplotlib import style\n",
    "style.use('fivethirtyeight')\n",
    "import matplotlib.pyplot as plt"
   ]
  },
  {
   "cell_type": "code",
   "execution_count": 86,
   "metadata": {},
   "outputs": [],
   "source": [
    "import numpy as np\n",
    "import pandas as pd\n",
    "import datetime as dt\n",
    "from sqlalchemy import and_"
   ]
  },
  {
   "cell_type": "markdown",
   "metadata": {},
   "source": [
    "# Reflect Tables into SQLAlchemy ORM"
   ]
  },
  {
   "cell_type": "code",
   "execution_count": 72,
   "metadata": {},
   "outputs": [],
   "source": [
    "# Python SQL toolkit and Object Relational Mapper\n",
    "import sqlalchemy\n",
    "from sqlalchemy.ext.automap import automap_base\n",
    "from sqlalchemy.orm import Session  \n",
    "from sqlalchemy import create_engine, func\n",
    "from flask import Flask, jsonify"
   ]
  },
  {
   "cell_type": "code",
   "execution_count": 73,
   "metadata": {},
   "outputs": [],
   "source": [
    "# create engine to hawaii.sqlite\n",
    "engine = create_engine(\"sqlite:///Resources/hawaii.sqlite\")"
   ]
  },
  {
   "cell_type": "code",
   "execution_count": 74,
   "metadata": {},
   "outputs": [],
   "source": [
    "# reflect an existing database into a new model\n",
    "Base = automap_base()\n",
    "\n",
    "# reflect the tables\n",
    "Base.prepare(engine, reflect=True)"
   ]
  },
  {
   "cell_type": "code",
   "execution_count": 75,
   "metadata": {},
   "outputs": [
    {
     "data": {
      "text/plain": [
       "['measurement', 'station']"
      ]
     },
     "execution_count": 75,
     "metadata": {},
     "output_type": "execute_result"
    }
   ],
   "source": [
    "# View all of the classes that automap found\n",
    "Base.classes.keys()"
   ]
  },
  {
   "cell_type": "code",
   "execution_count": 76,
   "metadata": {},
   "outputs": [],
   "source": [
    "# Save references to each table\n",
    "Measurement = Base.classes.measurement\n",
    "\n",
    "Station = Base.classes.station"
   ]
  },
  {
   "cell_type": "code",
   "execution_count": 77,
   "metadata": {},
   "outputs": [],
   "source": [
    "#Flask setup\n",
    "app = Flask(__name__)\n"
   ]
  },
  {
   "cell_type": "code",
   "execution_count": 78,
   "metadata": {},
   "outputs": [],
   "source": [
    "#Flask Routes\n",
    "@app.route(\"/\")\n",
    "def welcome():\n",
    "    \"\"\"All available api routes.\"\"\"\n",
    "    return(\n",
    "        f\"Available Routes:<br/>\"\n",
    "        f\"List of percipitation per date: /api/v1.0/precipitation<br/>\"\n",
    "        f\"List of available stations: /api/v1.0/stations<br/>\"\n",
    "        f\"List of temperature observations per date: /api/v1.0/tobs<br/>\"\n",
    "        f\"List of max, min, and avg temperatures for a start date: /api/v1.0/yyyy-mm-dd<br/>\"\n",
    "        f\"List of max, min, and avg temperatures for a start and end date: /api/v1.0/yyyy-mm-dd/yyyy-mm-dd<br/>\"\n",
    "    )"
   ]
  },
  {
   "cell_type": "code",
   "execution_count": 58,
   "metadata": {},
   "outputs": [],
   "source": [
    "#precipitation, convert query results to a dict using date as the key and prcp as value\n",
    "#use session, remember to close before for loop\n",
    "@app.route(\"/api/v1.0/precipitation\")\n",
    "def precipitation():\n",
    "    \"\"\"Previous year of precipitation\"\"\"\n",
    "    session = Session(engine)\n",
    "    date_prcp = session.query(Measurement.date, Measurement.prcp).\\\n",
    "    filter(Measurement.date > '2016-08-22').\\\n",
    "    filter(Measurement.prcp).\\\n",
    "    order_by(Measurement.date).all()\n",
    "    session.close()"
   ]
  },
  {
   "cell_type": "code",
   "execution_count": 79,
   "metadata": {},
   "outputs": [],
   "source": [
    "@app.route(\"/api/v1.0/precipitation\")\n",
    "def precipitation_v1():\n",
    "    \"\"\"Previous year of precipitation\"\"\"\n",
    "    session = Session(engine)\n",
    "    date_prcp = session.query(Measurement.date, Measurement.prcp).\\\n",
    "        filter(Measurement.date > '2016-08-22').\\\n",
    "        filter(Measurement.prcp).\\\n",
    "        order_by(Measurement.date).all()\n",
    "    session.close()\n",
    "\n",
    "    all_prcp = {}  # Create an empty dictionary\n",
    "\n",
    "    for date, prcp in date_prcp:\n",
    "        all_prcp[date] = prcp\n",
    "\n",
    "    return jsonify(all_prcp)"
   ]
  },
  {
   "cell_type": "code",
   "execution_count": 80,
   "metadata": {},
   "outputs": [],
   "source": [
    "#stations, return jsonify list of stations from dataset\n",
    "#use session, remember to close before for loop\n",
    "@app.route(\"/api/v1.0/stations\")\n",
    "def stations():\n",
    "    \"\"\"List of stations\"\"\"\n",
    "    session = Session(engine)\n",
    "   \n",
    "    stations = {}\n",
    "    all_stations = session.query(Station.station, Station.name).all() \n",
    "    session.close()\n",
    "    \n",
    "    for st, name in all_stations:\n",
    "       stations[st] = name\n",
    "    return jsonify(stations)"
   ]
  },
  {
   "cell_type": "code",
   "execution_count": 81,
   "metadata": {},
   "outputs": [],
   "source": [
    "#tobs, query dates/tobs of most active station for last year of data\n",
    "#use session, remember to close before for loop\n",
    "@app.route(\"/api/v1.0/tobs\")\n",
    "def tobs():\n",
    "    \"\"\"Previous year of temperature observations for top station\"\"\"\n",
    "    session = Session(engine)\n",
    "    last_12_months_station = session.query(Measurement.date, Measurement.tobs).\\\n",
    "    filter(Measurement.station == 'USC00519281').\\\n",
    "    filter(Measurement.date > '2016-08-22').\\\n",
    "    order_by(Measurement.station).all()\n",
    "    session.close()\n",
    "\n",
    "    all_tobs = []\n",
    "    for date, tobs in last_12_months_station:\n",
    "        tobs_dict = {}\n",
    "        tobs_dict[\"date\"] = date\n",
    "        tobs_dict[\"tobs\"] = tobs\n",
    "        all_tobs.append(tobs_dict)\n",
    "    return jsonify(all_tobs)"
   ]
  },
  {
   "cell_type": "code",
   "execution_count": 82,
   "metadata": {},
   "outputs": [],
   "source": [
    "@app.route(\"/api/v1.0/<start>\")\n",
    "def start_v1(start):\n",
    "    \"\"\"TMIN, TAVG, TMAX per date from the starting date.\n",
    "    Arguments: start (string): date format is %Y-%m-%d\n",
    "    Return: TMIN, TAVE, TMAX for each date\"\"\"\n",
    "\n",
    "    session = Session(engine)\n",
    "    tobs_breakdown = session.query(\n",
    "        Measurement.date,\n",
    "        func.min(Measurement.tobs),\n",
    "        func.avg(Measurement.tobs),\n",
    "        func.max(Measurement.tobs)\n",
    "    ).filter(Measurement.date >= start).group_by(Measurement.date).all()\n",
    "    session.close()\n",
    "\n",
    "    tobs_results = []\n",
    "\n",
    "    for date, min_temp, avg_temp, max_temp in tobs_breakdown:\n",
    "        results_dict = {\n",
    "            \"date\": date,\n",
    "            \"min\": min_temp,\n",
    "            \"avg\": avg_temp,\n",
    "            \"max\": max_temp\n",
    "        }\n",
    "        tobs_results.append(results_dict)\n",
    "\n",
    "    return jsonify(tobs_results)\n"
   ]
  },
  {
   "cell_type": "code",
   "execution_count": 83,
   "metadata": {},
   "outputs": [],
   "source": [
    "#given start/end date, calc TMIN, TAVG, TMAX for dates between start and end dates\n",
    "#dates greater than and equal to the start date\n",
    "#use session, remember to close before for loop\n",
    "@app.route(\"/api/v1.0/<start>/<end>\")\n",
    "def end(start, end):\n",
    "    \"\"\"TMIN, TAVG, TMAX per date from the starting date to the end date.\n",
    "    Arguments: \n",
    "            start (string): date format is %Y-%m-%d\n",
    "            end (string): date format is %Y-%m-%d\n",
    "    Return: TMIN, TAVE, TMAX for each date\"\"\"\n",
    "\n",
    "    session = Session(engine)\n",
    "    tobs_breakdown = session.query(Measurement.date,\\\n",
    "    func.min(Measurement.tobs),\\\n",
    "    func.avg(Measurement.tobs),\\\n",
    "    func.max(Measurement.tobs)).\\\n",
    "    filter(and_(Measurement.date >= '2015-01-31', Measurement.date <= '2015-02-13')).\\\n",
    "    group_by(Measurement.date).all()\n",
    "    session.close()\n"
   ]
  },
  {
   "cell_type": "code",
   "execution_count": 84,
   "metadata": {},
   "outputs": [],
   "source": [
    "@app.route(\"/api/v1.0/<start>/<end>\")\n",
    "def end_v1(start, end):\n",
    "    \"\"\"TMIN, TAVG, TMAX per date from the starting date to the end date.\n",
    "    Arguments: \n",
    "            start (string): date format is %Y-%m-%d\n",
    "            end (string): date format is %Y-%m-%d\n",
    "    Return: TMIN, TAVE, TMAX for each date\"\"\"\n",
    "\n",
    "    session = Session(engine)\n",
    "    tobs_breakdown = session.query(\n",
    "        Measurement.date,\n",
    "        func.min(Measurement.tobs),\n",
    "        func.avg(Measurement.tobs),\n",
    "        func.max(Measurement.tobs)\n",
    "    ).filter(\n",
    "        and_(\n",
    "            Measurement.date >= start,\n",
    "            Measurement.date <= end\n",
    "        )\n",
    "    ).group_by(Measurement.date).all()\n",
    "    session.close()\n",
    "\n",
    "    tobs_end = []\n",
    "\n",
    "    for date, min_temp, avg_temp, max_temp in tobs_breakdown:\n",
    "        end_dict = {\n",
    "            \"date\": date,\n",
    "            \"min\": min_temp,\n",
    "            \"avg\": avg_temp,\n",
    "            \"max\": max_temp\n",
    "        }\n",
    "        tobs_end.append(end_dict)\n",
    "\n",
    "    return jsonify(tobs_end)\n",
    "\n"
   ]
  },
  {
   "cell_type": "code",
   "execution_count": 87,
   "metadata": {},
   "outputs": [
    {
     "name": "stdout",
     "output_type": "stream",
     "text": [
      " * Serving Flask app '__main__'\n",
      " * Debug mode: on\n"
     ]
    },
    {
     "name": "stderr",
     "output_type": "stream",
     "text": [
      "WARNING: This is a development server. Do not use it in a production deployment. Use a production WSGI server instead.\n",
      " * Running on http://127.0.0.1:5000\n",
      "Press CTRL+C to quit\n",
      " * Restarting with watchdog (windowsapi)\n"
     ]
    },
    {
     "ename": "SystemExit",
     "evalue": "1",
     "output_type": "error",
     "traceback": [
      "An exception has occurred, use %tb to see the full traceback.\n",
      "\u001b[1;31mSystemExit\u001b[0m\u001b[1;31m:\u001b[0m 1\n"
     ]
    }
   ],
   "source": [
    "\n",
    "\n",
    "# Your code for route definitions goes here\n",
    "\n",
    "if __name__ == '__main__':\n",
    "    app.run(debug=True)"
   ]
  }
 ],
 "metadata": {
  "anaconda-cloud": {},
  "kernel_info": {
   "name": "python3"
  },
  "kernelspec": {
   "display_name": "Python 3 (ipykernel)",
   "language": "python",
   "name": "python3"
  },
  "language_info": {
   "codemirror_mode": {
    "name": "ipython",
    "version": 3
   },
   "file_extension": ".py",
   "mimetype": "text/x-python",
   "name": "python",
   "nbconvert_exporter": "python",
   "pygments_lexer": "ipython3",
   "version": "3.9.13"
  },
  "nteract": {
   "version": "0.12.3"
  },
  "varInspector": {
   "cols": {
    "lenName": 16,
    "lenType": 16,
    "lenVar": 40
   },
   "kernels_config": {
    "python": {
     "delete_cmd_postfix": "",
     "delete_cmd_prefix": "del ",
     "library": "var_list.py",
     "varRefreshCmd": "print(var_dic_list())"
    },
    "r": {
     "delete_cmd_postfix": ") ",
     "delete_cmd_prefix": "rm(",
     "library": "var_list.r",
     "varRefreshCmd": "cat(var_dic_list()) "
    }
   },
   "types_to_exclude": [
    "module",
    "function",
    "builtin_function_or_method",
    "instance",
    "_Feature"
   ],
   "window_display": false
  }
 },
 "nbformat": 4,
 "nbformat_minor": 2
}
